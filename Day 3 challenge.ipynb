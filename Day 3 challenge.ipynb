{
 "cells": [
  {
   "cell_type": "code",
   "execution_count": 1,
   "id": "eae2a240-e73c-40ca-b09e-0501e7c23432",
   "metadata": {
    "scrolled": true
   },
   "outputs": [
    {
     "name": "stdout",
     "output_type": "stream",
     "text": [
      "This is a valid statement\n"
     ]
    }
   ],
   "source": [
    "# Looping statement\n",
    "a=10\n",
    "b=20\n",
    "if a==10 and b==20:\n",
    "  print(\"This is a valid statement\")"
   ]
  },
  {
   "cell_type": "code",
   "execution_count": 2,
   "id": "326ab0d4-5e6c-4e31-b9df-392a446308d0",
   "metadata": {},
   "outputs": [
    {
     "data": {
      "text/plain": [
       "True"
      ]
     },
     "execution_count": 2,
     "metadata": {},
     "output_type": "execute_result"
    }
   ],
   "source": [
    "a==10 and b==20"
   ]
  },
  {
   "cell_type": "code",
   "execution_count": 3,
   "id": "0d4af928-78cc-4c40-9338-45e9d647c902",
   "metadata": {},
   "outputs": [
    {
     "data": {
      "text/plain": [
       "True"
      ]
     },
     "execution_count": 3,
     "metadata": {},
     "output_type": "execute_result"
    }
   ],
   "source": [
    "b==20"
   ]
  },
  {
   "cell_type": "code",
   "execution_count": 4,
   "id": "00267f1b-48f2-4da5-a046-a756666f5618",
   "metadata": {},
   "outputs": [
    {
     "name": "stdout",
     "output_type": "stream",
     "text": [
      "This is a valid statement\n"
     ]
    }
   ],
   "source": [
    "a=10\n",
    "b=20\n",
    "if a==10 and b==20:\n",
    "  print(\"This is a valid statement\")\n",
    "elif a==10 and b<=20:\n",
    "  print(\"This condition is valid inside elif\")\n",
    "else:\n",
    "  print(\"condition is not valid\")"
   ]
  },
  {
   "cell_type": "code",
   "execution_count": 5,
   "id": "e0b5be7d-c8cb-4b33-9836-41d4def59be1",
   "metadata": {},
   "outputs": [
    {
     "name": "stdin",
     "output_type": "stream",
     "text": [
      "Enter your first name hhb\n",
      "Enter your second name ghj\n"
     ]
    },
    {
     "name": "stdout",
     "output_type": "stream",
     "text": [
      "In valid input name\n"
     ]
    }
   ],
   "source": [
    "#task:\n",
    "#take input from your keyboard as your first name and second name and then try to validate\n",
    "\n",
    "first_name=input(\"Enter your first name\")\n",
    "second_name=input(\"Enter your second name\")\n",
    "\n",
    "if first_name==\"Rakesh\" and second_name==\"B R\":\n",
    "  print(\"you can login successfully\")\n",
    "else:\n",
    "  print(\"In valid input name\")"
   ]
  },
  {
   "cell_type": "code",
   "execution_count": 6,
   "id": "93ebed08-ac70-4791-9849-2fd5ef63fd95",
   "metadata": {},
   "outputs": [
    {
     "name": "stdout",
     "output_type": "stream",
     "text": [
      "This is my speed\n",
      "This is my speed\n",
      "This is my speed\n",
      "This is my speed\n",
      "This is my speed\n",
      "This is my speed\n",
      "This is my speed\n",
      "This is my speed\n",
      "This is my speed\n"
     ]
    }
   ],
   "source": [
    "# While statement\n",
    "initial_speed=0\n",
    "final_speed=100\n",
    "count=1\n",
    "while initial_speed<=final_speed:\n",
    "  print(\"This is my speed\")\n",
    "  count+=1\n",
    "  if count==10:\n",
    "    break"
   ]
  },
  {
   "cell_type": "code",
   "execution_count": 7,
   "id": "31c27c09-24f1-4648-86ed-fa6c50f9fc39",
   "metadata": {},
   "outputs": [
    {
     "name": "stdout",
     "output_type": "stream",
     "text": [
      "1\n",
      "2\n",
      "3\n",
      "4\n"
     ]
    }
   ],
   "source": [
    "i=1\n",
    "j=5\n",
    "while i<j:\n",
    "  print(i)\n",
    "  i=i+1"
   ]
  },
  {
   "cell_type": "code",
   "execution_count": 8,
   "id": "ac33571b-50ab-4cf9-9ba7-6e671d981b2e",
   "metadata": {},
   "outputs": [
    {
     "name": "stdin",
     "output_type": "stream",
     "text": [
      "Enter a number 89\n",
      "Enter a number 98\n",
      "Enter a number -9\n"
     ]
    },
    {
     "name": "stdout",
     "output_type": "stream",
     "text": [
      "187\n"
     ]
    }
   ],
   "source": [
    "# create a new file exercise of while\n",
    "# write a python program that repeatedly ask   the program shold keep adding all the positive number entered the loop should stop when the user enterrs a negative number\n",
    "# and then display total sum\n",
    "#hint : while\n",
    "total=0\n",
    "number=1\n",
    "while number>0 :\n",
    "  number=int(input(\"Enter a number\"))\n",
    "  if number>=0:\n",
    "    total+=number\n",
    "  else:\n",
    "    print(total)"
   ]
  },
  {
   "cell_type": "code",
   "execution_count": 14,
   "id": "77ab1e4a-01b8-4a1d-b7eb-fb0d54a4bd47",
   "metadata": {},
   "outputs": [
    {
     "name": "stdin",
     "output_type": "stream",
     "text": [
      "enter a number between 1 to 10 44\n"
     ]
    },
    {
     "name": "stdout",
     "output_type": "stream",
     "text": [
      "decrese the number to get secret number\n"
     ]
    },
    {
     "name": "stdin",
     "output_type": "stream",
     "text": [
      "enter a number between 1 to 10 5\n"
     ]
    },
    {
     "name": "stdout",
     "output_type": "stream",
     "text": [
      "increase the number to get secret number\n"
     ]
    },
    {
     "name": "stdin",
     "output_type": "stream",
     "text": [
      "enter a number between 1 to 10 10\n"
     ]
    },
    {
     "name": "stdout",
     "output_type": "stream",
     "text": [
      "decrese the number to get secret number\n"
     ]
    },
    {
     "name": "stdin",
     "output_type": "stream",
     "text": [
      "enter a number between 1 to 10 9\n"
     ]
    },
    {
     "name": "stdout",
     "output_type": "stream",
     "text": [
      "both guess_num and secret number is same\n"
     ]
    }
   ],
   "source": [
    "# exercise 2 : create a pthon program that generate a secret number between 1 and 10 ask the user \n",
    "# to guess the number then   after each wrong guess print whether the guess was too high or\n",
    "# too high when user guess correctly display a congrats message\n",
    "import numpy as np\n",
    "secret_num=np.random.randint(1,11)\n",
    "while True:\n",
    "    guess_num=int(input(\"enter a number between 1 to 10\"))\n",
    "    if guess_num<secret_num:\n",
    "        print(\"increase the number to get secret number\")\n",
    "    elif guess_num>secret_num:\n",
    "        print(\"decrese the number to get secret number\")\n",
    "    elif guess_num==secret_num:\n",
    "        print(\"both guess_num and secret number is same\")\n",
    "        break\n",
    "    "
   ]
  },
  {
   "cell_type": "code",
   "execution_count": 19,
   "id": "5bbafd3d-f018-4f29-bcbe-aaa5e8ff0962",
   "metadata": {},
   "outputs": [
    {
     "name": "stdin",
     "output_type": "stream",
     "text": [
      "enter green ,yellow or green to know about the traffic green\n"
     ]
    },
    {
     "name": "stdout",
     "output_type": "stream",
     "text": [
      "You can move now\n"
     ]
    }
   ],
   "source": [
    "# write a python program that simulates a trafic light    ask user to input red green and yellow\n",
    "#based on input driver to work\n",
    "color=input(\"enter green ,yellow or green to know about the traffic\")\n",
    "if color==\"green\":\n",
    "    print(\"You can move now\")\n",
    "elif color==\"yellow\":\n",
    "    print(\"You can start your bike now\")\n",
    "elif color==\"red\":\n",
    "    print(\"you have to stop bike dont move\")\n",
    "else:\n",
    "    print(\"enter a valid color\")"
   ]
  },
  {
   "cell_type": "code",
   "execution_count": null,
   "id": "32e18ee6-ae60-487c-8bc3-1e654c59d544",
   "metadata": {},
   "outputs": [],
   "source": []
  }
 ],
 "metadata": {
  "kernelspec": {
   "display_name": "Python [conda env:base] *",
   "language": "python",
   "name": "conda-base-py"
  },
  "language_info": {
   "codemirror_mode": {
    "name": "ipython",
    "version": 3
   },
   "file_extension": ".py",
   "mimetype": "text/x-python",
   "name": "python",
   "nbconvert_exporter": "python",
   "pygments_lexer": "ipython3",
   "version": "3.13.5"
  }
 },
 "nbformat": 4,
 "nbformat_minor": 5
}
