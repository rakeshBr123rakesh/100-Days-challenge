{
 "cells": [
  {
   "cell_type": "code",
   "execution_count": 3,
   "id": "9174ac99-4cc7-49d4-bd56-f74fd7323404",
   "metadata": {},
   "outputs": [
    {
     "name": "stdout",
     "output_type": "stream",
     "text": [
      "1\n",
      "2\n",
      "3\n",
      "4\n",
      "5\n",
      "no 10 rs notes available\n"
     ]
    }
   ],
   "source": [
    "notes=5\n",
    "i=1\n",
    "j=1\n",
    "while i<5:\n",
    "    print(i)\n",
    "    i=i+1\n",
    "else:\n",
    "    while j<2:\n",
    "        print(i)\n",
    "        j=j+1\n",
    "    \n",
    "    print(\"no 10 rs notes available\")"
   ]
  },
  {
   "cell_type": "markdown",
   "id": "75ef6e94-f7f8-4396-be9a-c9afc38db92a",
   "metadata": {},
   "source": [
    "# Data Structures"
   ]
  },
  {
   "cell_type": "code",
   "execution_count": 4,
   "id": "27f42278-cd5b-4de4-bd31-70b0f2118185",
   "metadata": {},
   "outputs": [
    {
     "data": {
      "text/plain": [
       "'Rocky'"
      ]
     },
     "execution_count": 4,
     "metadata": {},
     "output_type": "execute_result"
    }
   ],
   "source": [
    "s=\"Rocky\"\n",
    "s[:]"
   ]
  },
  {
   "cell_type": "code",
   "execution_count": 6,
   "id": "972b039f-4baf-4fc1-b58f-30c94ce902f0",
   "metadata": {},
   "outputs": [
    {
     "data": {
      "text/plain": [
       "'o'"
      ]
     },
     "execution_count": 6,
     "metadata": {},
     "output_type": "execute_result"
    }
   ],
   "source": [
    "s[1]"
   ]
  },
  {
   "cell_type": "code",
   "execution_count": 8,
   "id": "68eda7b3-070a-4f53-81ed-8a6fb8821c36",
   "metadata": {},
   "outputs": [
    {
     "data": {
      "text/plain": [
       "'Rocky'"
      ]
     },
     "execution_count": 8,
     "metadata": {},
     "output_type": "execute_result"
    }
   ],
   "source": [
    "s[:5]"
   ]
  },
  {
   "cell_type": "code",
   "execution_count": 9,
   "id": "4819f907-dbe5-44a5-9961-23ded5d96b64",
   "metadata": {},
   "outputs": [
    {
     "data": {
      "text/plain": [
       "'my name is Rakesh'"
      ]
     },
     "execution_count": 9,
     "metadata": {},
     "output_type": "execute_result"
    }
   ],
   "source": [
    "a=\"my name is Rakesh\"\n",
    "a[:]"
   ]
  },
  {
   "cell_type": "code",
   "execution_count": 11,
   "id": "7150e615-9fba-4341-8d12-14394f7d1f88",
   "metadata": {},
   "outputs": [
    {
     "data": {
      "text/plain": [
       "'name is'"
      ]
     },
     "execution_count": 11,
     "metadata": {},
     "output_type": "execute_result"
    }
   ],
   "source": [
    "a[3:10]"
   ]
  },
  {
   "cell_type": "code",
   "execution_count": 13,
   "id": "7dea7adb-f9c5-40a9-9211-f199d6a050ed",
   "metadata": {},
   "outputs": [
    {
     "data": {
      "text/plain": [
       "'h'"
      ]
     },
     "execution_count": 13,
     "metadata": {},
     "output_type": "execute_result"
    }
   ],
   "source": [
    "a[-1]"
   ]
  },
  {
   "cell_type": "code",
   "execution_count": 16,
   "id": "ae601c28-1227-4f75-88a9-bdc88d7c7aad",
   "metadata": {},
   "outputs": [
    {
     "data": {
      "text/plain": [
       "' is Rakes'"
      ]
     },
     "execution_count": 16,
     "metadata": {},
     "output_type": "execute_result"
    }
   ],
   "source": [
    "a[-10:-1]"
   ]
  },
  {
   "cell_type": "code",
   "execution_count": 23,
   "id": "f0e885b8-e744-4908-9016-2fa91f576e1c",
   "metadata": {},
   "outputs": [
    {
     "data": {
      "text/plain": [
       "'hsekaR si eman ym'"
      ]
     },
     "execution_count": 23,
     "metadata": {},
     "output_type": "execute_result"
    }
   ],
   "source": [
    "# we wont give starting point and ending point but i given step size\n",
    "a[ : : -1]"
   ]
  },
  {
   "cell_type": "code",
   "execution_count": 19,
   "id": "81f76d40-6b36-4dad-9246-67939529b8d8",
   "metadata": {},
   "outputs": [
    {
     "data": {
      "text/plain": [
       "'nm s'"
      ]
     },
     "execution_count": 19,
     "metadata": {},
     "output_type": "execute_result"
    }
   ],
   "source": [
    "# get data with step size\n",
    "a[3:10:2]"
   ]
  },
  {
   "cell_type": "code",
   "execution_count": 20,
   "id": "60232e16-d671-499b-8242-414fe7d9518e",
   "metadata": {},
   "outputs": [
    {
     "data": {
      "text/plain": [
       "''"
      ]
     },
     "execution_count": 20,
     "metadata": {},
     "output_type": "execute_result"
    }
   ],
   "source": [
    "# now we can't get output because of step size it take +1\n",
    "s[10:3]"
   ]
  },
  {
   "cell_type": "code",
   "execution_count": 21,
   "id": "246493da-b4cb-4f77-80ef-9492eb392e9f",
   "metadata": {},
   "outputs": [
    {
     "data": {
      "text/plain": [
       "' si ema'"
      ]
     },
     "execution_count": 21,
     "metadata": {},
     "output_type": "execute_result"
    }
   ],
   "source": [
    "# if we get step size -1 \n",
    "a[10:3:-1]"
   ]
  },
  {
   "cell_type": "code",
   "execution_count": 24,
   "id": "45d50395-dc56-4736-a5e6-c6798bdcf2ac",
   "metadata": {},
   "outputs": [
    {
     "data": {
      "text/plain": [
       "'my name is Rakesh'"
      ]
     },
     "execution_count": 24,
     "metadata": {},
     "output_type": "execute_result"
    }
   ],
   "source": [
    "a[:]"
   ]
  },
  {
   "cell_type": "code",
   "execution_count": 29,
   "id": "ef00b9e6-216e-48e9-90d8-b1f5a8e8d7c5",
   "metadata": {},
   "outputs": [
    {
     "name": "stdout",
     "output_type": "stream",
     "text": [
      "m\n",
      "y\n",
      " \n",
      "n\n",
      "a\n",
      "m\n",
      "e\n",
      " \n",
      "i\n",
      "s\n",
      " \n",
      "R\n",
      "a\n",
      "k\n",
      "e\n",
      "s\n",
      "h\n"
     ]
    }
   ],
   "source": [
    "# for loop \n",
    "for i in a:\n",
    "    print(i)"
   ]
  },
  {
   "cell_type": "code",
   "execution_count": 31,
   "id": "2a2175ca-9b4b-4fd5-80c7-d234a2116344",
   "metadata": {},
   "outputs": [
    {
     "name": "stdout",
     "output_type": "stream",
     "text": [
      "m\n",
      "y\n",
      " \n",
      "n\n",
      "a\n",
      "I got A as string\n",
      "m\n",
      "e\n",
      " \n",
      "i\n",
      "s\n",
      " \n",
      "R\n",
      "a\n",
      "I got A as string\n",
      "k\n",
      "e\n",
      "s\n",
      "h\n"
     ]
    }
   ],
   "source": [
    "# if u want to print some string when we get a\n",
    "for i in a:\n",
    "    print(i) \n",
    "    if i==\"a\":\n",
    "        print(\"I got A as string\")"
   ]
  },
  {
   "cell_type": "code",
   "execution_count": 33,
   "id": "9ad70568-840b-4192-936d-a1f26a96b91b",
   "metadata": {},
   "outputs": [
    {
     "name": "stdout",
     "output_type": "stream",
     "text": [
      "m\n",
      "y\n",
      " \n",
      "n\n",
      "a\n",
      "m\n",
      "e\n",
      " \n",
      "i\n",
      "s\n",
      " \n",
      "R\n",
      "a\n",
      "k\n",
      "e\n",
      "s\n",
      "h\n",
      " last character is h\n",
      "this is a else condition\n"
     ]
    }
   ],
   "source": [
    "# In for else condition else execute in only one condition that is for loop complete \n",
    "for i in a:\n",
    "    print(i)\n",
    "else:\n",
    "    if i==\"h\":\n",
    "        print(\" last character is h\")\n",
    "    print(\"this is a else condition\")    "
   ]
  },
  {
   "cell_type": "code",
   "execution_count": 34,
   "id": "f8452133-75fb-41a9-a757-1db99b01915f",
   "metadata": {},
   "outputs": [
    {
     "name": "stdout",
     "output_type": "stream",
     "text": [
      "m\n",
      "y\n",
      " \n"
     ]
    }
   ],
   "source": [
    "for i in a:\n",
    "    if i==\"n\":\n",
    "        break\n",
    "    print(i)\n",
    "else:\n",
    "    if i==\"h\":\n",
    "        print(\" last character is h\")\n",
    "    print(\"this is a else condition\")  "
   ]
  },
  {
   "cell_type": "code",
   "execution_count": 35,
   "id": "a08e9fcf-63a9-4a1d-a90f-6c2184eb78bc",
   "metadata": {},
   "outputs": [
    {
     "name": "stdout",
     "output_type": "stream",
     "text": [
      "m\n",
      "y\n",
      " \n",
      "a\n",
      "m\n",
      "e\n",
      " \n",
      "i\n",
      "s\n",
      " \n",
      "R\n",
      "a\n",
      "k\n",
      "e\n",
      "s\n",
      "h\n",
      " last character is h\n",
      "this is a else condition\n"
     ]
    }
   ],
   "source": [
    "for i in a:\n",
    "    if i==\"n\":\n",
    "        continue\n",
    "    print(i)\n",
    "else:\n",
    "    if i==\"h\":\n",
    "        print(\" last character is h\")\n",
    "    print(\"this is a else condition\")  "
   ]
  },
  {
   "cell_type": "code",
   "execution_count": null,
   "id": "ebbe2492-97fb-4987-8ceb-bbf89c8cd79e",
   "metadata": {},
   "outputs": [],
   "source": []
  }
 ],
 "metadata": {
  "kernelspec": {
   "display_name": "Python [conda env:base] *",
   "language": "python",
   "name": "conda-base-py"
  },
  "language_info": {
   "codemirror_mode": {
    "name": "ipython",
    "version": 3
   },
   "file_extension": ".py",
   "mimetype": "text/x-python",
   "name": "python",
   "nbconvert_exporter": "python",
   "pygments_lexer": "ipython3",
   "version": "3.13.5"
  }
 },
 "nbformat": 4,
 "nbformat_minor": 5
}
