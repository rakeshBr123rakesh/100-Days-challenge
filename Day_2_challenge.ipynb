{
  "nbformat": 4,
  "nbformat_minor": 0,
  "metadata": {
    "colab": {
      "provenance": []
    },
    "kernelspec": {
      "name": "python3",
      "display_name": "Python 3"
    },
    "language_info": {
      "name": "python"
    }
  },
  "cells": [
    {
      "cell_type": "code",
      "execution_count": 1,
      "metadata": {
        "id": "MJb3TKbYXhwh"
      },
      "outputs": [],
      "source": [
        "#Conditional Statements"
      ]
    },
    {
      "cell_type": "code",
      "source": [
        "# if and else are the keywords used for if else condition"
      ],
      "metadata": {
        "id": "3WZyQbreaXSX"
      },
      "execution_count": 2,
      "outputs": []
    },
    {
      "cell_type": "code",
      "source": [
        "a=int(input(\"input a number lesser than 67    \"))"
      ],
      "metadata": {
        "colab": {
          "base_uri": "https://localhost:8080/"
        },
        "id": "X8Lw7WrXanu3",
        "outputId": "3957c75e-9a6d-44bc-9997-18cc718cc63d"
      },
      "execution_count": 3,
      "outputs": [
        {
          "name": "stdout",
          "output_type": "stream",
          "text": [
            "input a number lesser than 67    56\n"
          ]
        }
      ]
    },
    {
      "cell_type": "code",
      "source": [
        "if a<34:\n",
        "  pass"
      ],
      "metadata": {
        "id": "ITssZDUrazwy"
      },
      "execution_count": 4,
      "outputs": []
    },
    {
      "cell_type": "code",
      "source": [
        "a=int(input(\"input a number lesser than 67    \"))\n",
        "if a<67:\n",
        "   print(\" given data is lesser than 67 im fine with that data \")"
      ],
      "metadata": {
        "colab": {
          "base_uri": "https://localhost:8080/"
        },
        "id": "zKRawpSda5T6",
        "outputId": "456a401a-cf60-493e-9be0-81eacfcaa8d0"
      },
      "execution_count": 8,
      "outputs": [
        {
          "output_type": "stream",
          "name": "stdout",
          "text": [
            "input a number lesser than 67    45\n",
            " given data is lesser than 67 im fine with that data \n"
          ]
        }
      ]
    },
    {
      "cell_type": "code",
      "source": [
        "a=int(input(\"input a number lesser than 67    \"))\n",
        "if a<67:\n",
        "   print(\" given data is lesser than 67 im fine with that data \")\n",
        "else:\n",
        "  print(\"The given input is greater than 67\")"
      ],
      "metadata": {
        "colab": {
          "base_uri": "https://localhost:8080/"
        },
        "id": "wJfdVBPHbCiq",
        "outputId": "d16caea9-d043-417b-b27b-02ed6a8f9c67"
      },
      "execution_count": 9,
      "outputs": [
        {
          "output_type": "stream",
          "name": "stdout",
          "text": [
            "input a number lesser than 67    999\n",
            "The given input is greater than 67\n"
          ]
        }
      ]
    },
    {
      "cell_type": "code",
      "source": [
        "a=int(input(\"input a number ->\"))\n",
        "if a<67:\n",
        "   print(\" given data is lesser than 67 im fine with that data \")\n",
        "elif a<100:\n",
        "  print(\"The given input is lesser than 100\")\n",
        "else:\n",
        "  print(\"The given input is greater than 67\")"
      ],
      "metadata": {
        "colab": {
          "base_uri": "https://localhost:8080/"
        },
        "id": "-iF_lQlfc0OY",
        "outputId": "e43beaf5-b7f3-4c6e-a598-d96a03d2f20a"
      },
      "execution_count": 10,
      "outputs": [
        {
          "output_type": "stream",
          "name": "stdout",
          "text": [
            "input a number ->99\n",
            "The given input is lesser than 100\n"
          ]
        }
      ]
    },
    {
      "cell_type": "code",
      "source": [
        "salary=int(input(\"Enter your salary \"))\n",
        "if salary>1000:\n",
        "  print(\"You can buy car\")\n",
        "elif salary>500 or salary==500:\n",
        "  print(\"you can buy bike\")\n",
        "elif salary<100:\n",
        "  print(\"we can do only maintainance\")"
      ],
      "metadata": {
        "colab": {
          "base_uri": "https://localhost:8080/"
        },
        "id": "o6AcvZCAdI2x",
        "outputId": "89db5c36-2d38-495c-dff2-526170644981"
      },
      "execution_count": 18,
      "outputs": [
        {
          "output_type": "stream",
          "name": "stdout",
          "text": [
            "Enter your salary 500\n",
            "you can buy bike\n"
          ]
        }
      ]
    },
    {
      "cell_type": "code",
      "source": [
        "# Nested if condition\n",
        "salary1=int(input(\"Enter your salary  \"))\n",
        "if salary1 >1000:\n",
        "  print(\"Your salary is good\")\n",
        "  if salary1>5000:\n",
        "    print(\"I will go for nano\")\n",
        "\n",
        "  elif salary1>10000:\n",
        "    print(\"i will go with maruthi\")\n",
        "  elif salary1>50000:\n",
        "    print(\"i will go with toyota\")\n",
        "  else:\n",
        "    print(\" i will go with rent car\")"
      ],
      "metadata": {
        "colab": {
          "base_uri": "https://localhost:8080/"
        },
        "id": "0qc8lU9teImN",
        "outputId": "00cc841d-edfe-4e1d-ce4a-fc12b619ee72"
      },
      "execution_count": 23,
      "outputs": [
        {
          "output_type": "stream",
          "name": "stdout",
          "text": [
            "Enter your salary  56789987654\n",
            "Your salary is good\n",
            "I will go for nano\n"
          ]
        }
      ]
    },
    {
      "cell_type": "code",
      "source": [],
      "metadata": {
        "id": "PMneelAohBvZ"
      },
      "execution_count": null,
      "outputs": []
    }
  ]
}